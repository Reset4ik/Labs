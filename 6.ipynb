{
 "cells": [
  {
   "cell_type": "code",
   "execution_count": 3,
   "id": "2cabf4b5-333a-44e8-ad54-cf456870a8f2",
   "metadata": {},
   "outputs": [
    {
     "name": "stdout",
     "output_type": "stream",
     "text": [
      "Варіант  2\n"
     ]
    }
   ],
   "source": [
    "N = ord(\"G\") % 10 +1\n",
    "print(\"Варіант \",N)"
   ]
  },
  {
   "cell_type": "code",
   "execution_count": 4,
   "id": "9895532b-9845-4ae1-9fc5-2b88492435be",
   "metadata": {},
   "outputs": [
    {
     "name": "stdout",
     "output_type": "stream",
     "text": [
      "НCД(16, 36) = 4\n",
      "НCД(12, 54) = 6\n",
      "НCД(23, 'строка') = Ошибка: входные данные должны быть числами!\n"
     ]
    }
   ],
   "source": [
    "def gcd(a, b):\n",
    "    try:\n",
    "        a, b = int(a), int(b)\n",
    "        while b != 0:\n",
    "            a, b = b, a % b\n",
    "        return a\n",
    "    except ValueError:\n",
    "        return \"Ошибка: входные данные должны быть числами!\"\n",
    "\n",
    "print(f\"НCД(16, 36) = {gcd(16, 36)}\")\n",
    "print(f\"НCД(12, 54) = {gcd(12, 54)}\")\n",
    "print(f\"НCД(23, 'строка') = {gcd(23, 'строка')}\")\n"
   ]
  }
 ],
 "metadata": {
  "kernelspec": {
   "display_name": "Python 3 (ipykernel)",
   "language": "python",
   "name": "python3"
  },
  "language_info": {
   "codemirror_mode": {
    "name": "ipython",
    "version": 3
   },
   "file_extension": ".py",
   "mimetype": "text/x-python",
   "name": "python",
   "nbconvert_exporter": "python",
   "pygments_lexer": "ipython3",
   "version": "3.10.6"
  }
 },
 "nbformat": 4,
 "nbformat_minor": 5
}
